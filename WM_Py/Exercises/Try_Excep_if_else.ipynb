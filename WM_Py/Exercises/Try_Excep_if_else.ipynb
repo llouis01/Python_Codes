{
 "cells": [
  {
   "cell_type": "code",
   "execution_count": 6,
   "metadata": {},
   "outputs": [
    {
     "name": "stdout",
     "output_type": "stream",
     "text": [
      "Enter a number: 0\n",
      "Division by zero is infinity\n"
     ]
    }
   ],
   "source": [
    "x = float(input(\"Enter a number: \"))\n",
    "if x != 0:\n",
    "    y = 1/x\n",
    "    print(y)\n",
    "else:\n",
    "    print(\"Division by zero is infinity\")"
   ]
  },
  {
   "cell_type": "code",
   "execution_count": 9,
   "metadata": {},
   "outputs": [
    {
     "name": "stdout",
     "output_type": "stream",
     "text": [
      "Enter a temperature: 99\n",
      "Not sure you should go out...\n"
     ]
    }
   ],
   "source": [
    "temp = float(input(\"Enter a temperature: \"))\n",
    "if temp <= 32:\n",
    "    print(\"Wear wool overcoat\")\n",
    "elif temp < 80:\n",
    "    print('Wear suit or sport coat')\n",
    "elif temp == 82:\n",
    "    print(\"Wear no jacket and loosen tie\")\n",
    "else:\n",
    "    print(\"Not sure you should go out...\")"
   ]
  },
  {
   "cell_type": "code",
   "execution_count": null,
   "metadata": {},
   "outputs": [],
   "source": []
  },
  {
   "cell_type": "markdown",
   "metadata": {},
   "source": [
    "# Try - Except"
   ]
  },
  {
   "cell_type": "code",
   "execution_count": 2,
   "metadata": {},
   "outputs": [
    {
     "name": "stdout",
     "output_type": "stream",
     "text": [
      "0.2\n"
     ]
    }
   ],
   "source": [
    "x = 5\n",
    "try:\n",
    "    y = 1/x\n",
    "    print(y)\n",
    "except:\n",
    "    print(\"Cannot represent a division by zero\")"
   ]
  },
  {
   "cell_type": "code",
   "execution_count": 1,
   "metadata": {},
   "outputs": [
    {
     "name": "stdout",
     "output_type": "stream",
     "text": [
      "Error message and type of error:  division by zero <class 'ZeroDivisionError'>\n"
     ]
    }
   ],
   "source": [
    "x = 0\n",
    "try:\n",
    "    y = 1/x\n",
    "    print(y)\n",
    "except Exception as err:\n",
    "    print(\"Error message and type of error: \", str(err), str(type(err)))"
   ]
  },
  {
   "cell_type": "code",
   "execution_count": 34,
   "metadata": {},
   "outputs": [
    {
     "name": "stdout",
     "output_type": "stream",
     "text": [
      "Error message and type of error:  division by zero <class 'ZeroDivisionError'>\n"
     ]
    }
   ],
   "source": [
    "x = 0\n",
    "try:\n",
    "    y = 1/x\n",
    "    print(y)\n",
    "except ArithmeticError as err:\n",
    "    print(\"Error message and type of error: \", str(err), str(type(err)))"
   ]
  }
 ],
 "metadata": {
  "kernelspec": {
   "display_name": "Python 3",
   "language": "python",
   "name": "python3"
  },
  "language_info": {
   "codemirror_mode": {
    "name": "ipython",
    "version": 3
   },
   "file_extension": ".py",
   "mimetype": "text/x-python",
   "name": "python",
   "nbconvert_exporter": "python",
   "pygments_lexer": "ipython3",
   "version": "3.8.3"
  }
 },
 "nbformat": 4,
 "nbformat_minor": 4
}
