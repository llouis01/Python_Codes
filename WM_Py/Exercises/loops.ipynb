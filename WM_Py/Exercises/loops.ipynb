{
 "cells": [
  {
   "cell_type": "markdown",
   "metadata": {},
   "source": [
    "# For loop: for i in range(10):"
   ]
  },
  {
   "cell_type": "code",
   "execution_count": 12,
   "metadata": {},
   "outputs": [
    {
     "name": "stdout",
     "output_type": "stream",
     "text": [
      "0\n",
      "1\n",
      "2\n",
      "Done\n"
     ]
    }
   ],
   "source": [
    "for i in [0, 1, 2]:\n",
    "    print(i)\n",
    "print('Done')"
   ]
  },
  {
   "cell_type": "markdown",
   "metadata": {},
   "source": [
    "## the for loop iterates through a list or range of data"
   ]
  },
  {
   "cell_type": "code",
   "execution_count": 11,
   "metadata": {},
   "outputs": [
    {
     "name": "stdout",
     "output_type": "stream",
     "text": [
      "1.999969482421875\n"
     ]
    }
   ],
   "source": [
    "x = 0.5\n",
    "sum_pwr = 0.0\n",
    "for i in range(16):\n",
    "    sum_pwr += x**i\n",
    "print(sum_pwr)"
   ]
  },
  {
   "cell_type": "code",
   "execution_count": 32,
   "metadata": {},
   "outputs": [],
   "source": [
    "words = ['The', 'cold', 'passed', 'reluctantly', 'from', 'the', 'earth']"
   ]
  },
  {
   "cell_type": "code",
   "execution_count": 16,
   "metadata": {},
   "outputs": [
    {
     "data": {
      "text/plain": [
       "range(0, 7)"
      ]
     },
     "execution_count": 16,
     "metadata": {},
     "output_type": "execute_result"
    }
   ],
   "source": [
    "range(len(words))"
   ]
  },
  {
   "cell_type": "code",
   "execution_count": 18,
   "metadata": {},
   "outputs": [
    {
     "name": "stdout",
     "output_type": "stream",
     "text": [
      "The\n",
      "cold\n",
      "passed\n",
      "reluctantly\n",
      "fron\n",
      "the\n",
      "earth\n"
     ]
    }
   ],
   "source": [
    "for i in list(range(len(words))):\n",
    "    print(words[i])"
   ]
  },
  {
   "cell_type": "code",
   "execution_count": 20,
   "metadata": {},
   "outputs": [
    {
     "name": "stdout",
     "output_type": "stream",
     "text": [
      "The\n",
      "cold\n",
      "passed\n",
      "reluctantly\n",
      "fron\n",
      "the\n",
      "earth\n"
     ]
    }
   ],
   "source": [
    "for word in words: print(word)"
   ]
  },
  {
   "cell_type": "code",
   "execution_count": 29,
   "metadata": {},
   "outputs": [
    {
     "name": "stdout",
     "output_type": "stream",
     "text": [
      "The\n",
      "hot\n",
      "passed\n",
      "reluctantly\n",
      "fron\n",
      "the\n",
      "earth\n"
     ]
    }
   ],
   "source": [
    "for word in words:\n",
    "    if word == 'cold':\n",
    "        word = 'hot'\n",
    "    print(word)"
   ]
  },
  {
   "cell_type": "code",
   "execution_count": 35,
   "metadata": {},
   "outputs": [
    {
     "name": "stdout",
     "output_type": "stream",
     "text": [
      "['The', 'scolding', 'passed', 'reluctantly', 'from', 'the', 'earth']\n"
     ]
    }
   ],
   "source": [
    "for i in range(len(words)):\n",
    "    if i == 1:\n",
    "        words[i] = 'scolding'\n",
    "print(words)"
   ]
  },
  {
   "cell_type": "code",
   "execution_count": 43,
   "metadata": {},
   "outputs": [
    {
     "name": "stdout",
     "output_type": "stream",
     "text": [
      "\n",
      "The\n",
      "T\n",
      "h\n",
      "e\n",
      "\n",
      "\n",
      "scolding\n",
      "s\n",
      "c\n",
      "o\n",
      "l\n",
      "d\n",
      "i\n",
      "n\n",
      "g\n",
      "\n",
      "\n",
      "passed\n",
      "p\n",
      "a\n",
      "s\n",
      "s\n",
      "e\n",
      "d\n",
      "\n",
      "\n",
      "reluctantly\n",
      "r\n",
      "e\n",
      "l\n",
      "u\n",
      "c\n",
      "t\n",
      "a\n",
      "n\n",
      "t\n",
      "l\n",
      "y\n",
      "\n",
      "\n",
      "from\n",
      "f\n",
      "r\n",
      "o\n",
      "m\n",
      "\n",
      "\n",
      "the\n",
      "t\n",
      "h\n",
      "e\n",
      "\n",
      "\n",
      "earth\n",
      "e\n",
      "a\n",
      "r\n",
      "t\n",
      "h\n",
      "\n"
     ]
    }
   ],
   "source": [
    "for word in words:\n",
    "    print('\\n' + word)\n",
    "    for letter in word:\n",
    "        print(letter)\n",
    "    print() # adds a new line"
   ]
  }
 ],
 "metadata": {
  "kernelspec": {
   "display_name": "Python 3",
   "language": "python",
   "name": "python3"
  },
  "language_info": {
   "codemirror_mode": {
    "name": "ipython",
    "version": 3
   },
   "file_extension": ".py",
   "mimetype": "text/x-python",
   "name": "python",
   "nbconvert_exporter": "python",
   "pygments_lexer": "ipython3",
   "version": "3.8.3"
  }
 },
 "nbformat": 4,
 "nbformat_minor": 4
}
