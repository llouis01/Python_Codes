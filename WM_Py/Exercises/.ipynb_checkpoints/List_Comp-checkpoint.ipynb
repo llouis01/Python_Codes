{
 "cells": [
  {
   "cell_type": "code",
   "execution_count": 3,
   "metadata": {},
   "outputs": [
    {
     "name": "stdout",
     "output_type": "stream",
     "text": [
      "[0, 1, 2, 3, 4]\n"
     ]
    }
   ],
   "source": [
    "myList = []\n",
    "for x in range(5):\n",
    "    myList.append(x)\n",
    "print(myList)"
   ]
  },
  {
   "cell_type": "code",
   "execution_count": 10,
   "metadata": {},
   "outputs": [],
   "source": [
    "myList2 = [x * -2 for x in range(10) if x % 2 = 1]"
   ]
  },
  {
   "cell_type": "code",
   "execution_count": 18,
   "metadata": {},
   "outputs": [
    {
     "data": {
      "text/plain": [
       "[0, 0, 0, 0, 'Right', 0, 0, 0, 0, 0]"
      ]
     },
     "execution_count": 18,
     "metadata": {},
     "output_type": "execute_result"
    }
   ],
   "source": [
    "dim = 10\n",
    "i = 4\n",
    "[0 if not j == i else 'Right' for j in range(dim)]"
   ]
  },
  {
   "cell_type": "code",
   "execution_count": 19,
   "metadata": {},
   "outputs": [
    {
     "data": {
      "text/plain": [
       "[['Right', 0, 0, 0, 0, 0, 0, 0, 0, 0],\n",
       " [0, 'Right', 0, 0, 0, 0, 0, 0, 0, 0],\n",
       " [0, 0, 'Right', 0, 0, 0, 0, 0, 0, 0],\n",
       " [0, 0, 0, 'Right', 0, 0, 0, 0, 0, 0],\n",
       " [0, 0, 0, 0, 'Right', 0, 0, 0, 0, 0],\n",
       " [0, 0, 0, 0, 0, 'Right', 0, 0, 0, 0],\n",
       " [0, 0, 0, 0, 0, 0, 'Right', 0, 0, 0],\n",
       " [0, 0, 0, 0, 0, 0, 0, 'Right', 0, 0],\n",
       " [0, 0, 0, 0, 0, 0, 0, 0, 'Right', 0],\n",
       " [0, 0, 0, 0, 0, 0, 0, 0, 0, 'Right']]"
      ]
     },
     "execution_count": 19,
     "metadata": {},
     "output_type": "execute_result"
    }
   ],
   "source": [
    "[[0 if not j == i else 'Right' for j in range(dim)] for i in range(dim)]"
   ]
  }
 ],
 "metadata": {
  "kernelspec": {
   "display_name": "Python 3",
   "language": "python",
   "name": "python3"
  },
  "language_info": {
   "codemirror_mode": {
    "name": "ipython",
    "version": 3
   },
   "file_extension": ".py",
   "mimetype": "text/x-python",
   "name": "python",
   "nbconvert_exporter": "python",
   "pygments_lexer": "ipython3",
   "version": "3.8.5"
  }
 },
 "nbformat": 4,
 "nbformat_minor": 4
}
