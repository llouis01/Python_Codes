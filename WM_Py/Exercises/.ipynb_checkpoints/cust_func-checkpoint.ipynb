{
 "cells": [
  {
   "cell_type": "code",
   "execution_count": 11,
   "metadata": {},
   "outputs": [
    {
     "name": "stdout",
     "output_type": "stream",
     "text": [
      "<module 'math' (built-in)>\n"
     ]
    }
   ],
   "source": [
    "import math\n",
    "print(math)"
   ]
  },
  {
   "cell_type": "code",
   "execution_count": 17,
   "metadata": {},
   "outputs": [
    {
     "name": "stdout",
     "output_type": "stream",
     "text": [
      "0.8241076680252932\n",
      "\n",
      "1.1709880781362132\n",
      "\n",
      "1.2922522543060182\n",
      "\n",
      "0.08337150196312071\n",
      "\n",
      "0.8556568393223529\n",
      "\n",
      "1.6329485558433454\n",
      "\n",
      "0.7445691604777862\n",
      "\n",
      "0.5210823405882787\n",
      "\n",
      "0.6749374729402535\n",
      "\n",
      "1.848494591137689\n",
      "\n"
     ]
    }
   ],
   "source": [
    "import random\n",
    "x = random.random()\n",
    "t = []\n",
    "\n",
    "for i in range(10):\n",
    "    y = random.random() * 2\n",
    "    print(y)\n",
    "    t.append(y*3)\n",
    "    print()"
   ]
  },
  {
   "cell_type": "code",
   "execution_count": 18,
   "metadata": {},
   "outputs": [
    {
     "data": {
      "text/plain": [
       "[2.4723230040758795,\n",
       " 3.5129642344086394,\n",
       " 3.8767567629180544,\n",
       " 0.2501145058893621,\n",
       " 2.566970517967059,\n",
       " 4.898845667530036,\n",
       " 2.233707481433359,\n",
       " 1.5632470217648362,\n",
       " 2.0248124188207606,\n",
       " 5.545483773413068]"
      ]
     },
     "execution_count": 18,
     "metadata": {},
     "output_type": "execute_result"
    }
   ],
   "source": [
    "t"
   ]
  },
  {
   "cell_type": "code",
   "execution_count": 20,
   "metadata": {},
   "outputs": [
    {
     "name": "stdout",
     "output_type": "stream",
     "text": [
      "I'm a lumberjack, and I'm okay\n",
      "I sleep all night, and I work all day.\n",
      "I'm a lumberjack, and I'm okay\n",
      "I sleep all night, and I work all day.\n"
     ]
    }
   ],
   "source": [
    "random.choice(t)\n",
    "repeat_lyrics()"
   ]
  },
  {
   "cell_type": "code",
   "execution_count": 21,
   "metadata": {},
   "outputs": [],
   "source": [
    "def print_lyrics():\n",
    "    print(\"I'm a lumberjack, and I'm okay\")\n",
    "    print(\"I sleep all night, and I work all day.\")"
   ]
  },
  {
   "cell_type": "code",
   "execution_count": 6,
   "metadata": {},
   "outputs": [],
   "source": [
    "def repeat_lyrics():\n",
    "    print_lyrics()\n",
    "    print_lyrics()"
   ]
  },
  {
   "cell_type": "code",
   "execution_count": 10,
   "metadata": {},
   "outputs": [
    {
     "name": "stdout",
     "output_type": "stream",
     "text": [
      "I'm a lumberjack, and I'm okay\n",
      "I sleep all night, and I work all day.\n",
      "I'm a lumberjack, and I'm okay\n",
      "I sleep all night, and I work all day.\n"
     ]
    }
   ],
   "source": [
    "repeat_lyrics()"
   ]
  },
  {
   "cell_type": "code",
   "execution_count": 26,
   "metadata": {},
   "outputs": [
    {
     "data": {
      "text/plain": [
       "-1.0"
      ]
     },
     "execution_count": 26,
     "metadata": {},
     "output_type": "execute_result"
    }
   ],
   "source": [
    "pi_cos = math.cos(math.pi)\n",
    "pi_cos"
   ]
  },
  {
   "cell_type": "code",
   "execution_count": 30,
   "metadata": {},
   "outputs": [],
   "source": [
    "def two_pi_r_sq(r):\n",
    "    return (2 * math.pi) * (r ** 2)"
   ]
  },
  {
   "cell_type": "code",
   "execution_count": 32,
   "metadata": {},
   "outputs": [
    {
     "data": {
      "text/plain": [
       "56.548667764616276"
      ]
     },
     "execution_count": 32,
     "metadata": {},
     "output_type": "execute_result"
    }
   ],
   "source": [
    "two_pi_r_sq(3)"
   ]
  },
  {
   "cell_type": "code",
   "execution_count": 35,
   "metadata": {},
   "outputs": [],
   "source": [
    "def compute_pay(hours, rate):\n",
    "    ovrtime = hours + (1/2*hours)\n",
    "    if hours <= 40:\n",
    "        salary = hours * rate\n",
    "    else:\n",
    "        salary = ovrtime * hours\n",
    "    return salary"
   ]
  },
  {
   "cell_type": "code",
   "execution_count": 42,
   "metadata": {},
   "outputs": [
    {
     "data": {
      "text/plain": [
       "1826.8000000000002"
      ]
     },
     "execution_count": 42,
     "metadata": {},
     "output_type": "execute_result"
    }
   ],
   "source": [
    "compute_pay(40, 45.67)"
   ]
  }
 ],
 "metadata": {
  "kernelspec": {
   "display_name": "Python 3",
   "language": "python",
   "name": "python3"
  },
  "language_info": {
   "codemirror_mode": {
    "name": "ipython",
    "version": 3
   },
   "file_extension": ".py",
   "mimetype": "text/x-python",
   "name": "python",
   "nbconvert_exporter": "python",
   "pygments_lexer": "ipython3",
   "version": "3.8.3"
  }
 },
 "nbformat": 4,
 "nbformat_minor": 4
}
