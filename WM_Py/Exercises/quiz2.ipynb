{
 "cells": [
  {
   "cell_type": "code",
   "execution_count": 2,
   "metadata": {},
   "outputs": [],
   "source": [
    "s = 'jump'\n",
    "t = 'jumprope'\n",
    "u = 'jumping'\n",
    "v = 'ready'\n",
    "w = 'read'\n",
    "x = 'red'"
   ]
  },
  {
   "cell_type": "code",
   "execution_count": 4,
   "metadata": {},
   "outputs": [
    {
     "name": "stdout",
     "output_type": "stream",
     "text": [
      "Please enter some characters: pou\n",
      "<class 'str'>\n"
     ]
    }
   ],
   "source": [
    "x = input('Please enter some characters: ')\n",
    "print(type(x))"
   ]
  },
  {
   "cell_type": "code",
   "execution_count": 5,
   "metadata": {},
   "outputs": [
    {
     "name": "stdout",
     "output_type": "stream",
     "text": [
      "Please enter some characters: 3000\n",
      "The color is green.\n"
     ]
    }
   ],
   "source": [
    "x = input('Please enter some characters: ')\n",
    "try:\n",
    "    y = float(x)\n",
    "    if y < 100:\n",
    "        print('The color is brown.')\n",
    "    elif y > 200:\n",
    "        print('The color is green.')\n",
    "    elif y % 2 == 0:\n",
    "        print('even')\n",
    "    else:\n",
    "        print('odd')\n",
    "except:\n",
    "    print('The input cannot be converted to a numerical data type.')"
   ]
  }
 ],
 "metadata": {
  "kernelspec": {
   "display_name": "Python 3",
   "language": "python",
   "name": "python3"
  },
  "language_info": {
   "codemirror_mode": {
    "name": "ipython",
    "version": 3
   },
   "file_extension": ".py",
   "mimetype": "text/x-python",
   "name": "python",
   "nbconvert_exporter": "python",
   "pygments_lexer": "ipython3",
   "version": "3.8.3"
  }
 },
 "nbformat": 4,
 "nbformat_minor": 4
}
