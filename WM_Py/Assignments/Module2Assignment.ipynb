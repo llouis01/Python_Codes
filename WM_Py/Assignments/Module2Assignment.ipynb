{
 "cells": [
  {
   "cell_type": "code",
   "execution_count": 1,
   "metadata": {},
   "outputs": [
    {
     "name": "stdout",
     "output_type": "stream",
     "text": [
      "Enter a temperature in Fahrenheit-> p\n",
      "\n",
      "The inputted data represents an inappropriate response; causing an error of <class 'ValueError'>, which states that the program 'could not convert string to float: 'p''.\n"
     ]
    }
   ],
   "source": [
    "try:\n",
    "    fah_temp = float(input(\"Enter a temperature in Fahrenheit-> \"))\n",
    "    # put all the commands inside the 'try' block\n",
    "    \n",
    "    fah_to_cel = (fah_temp - 32.0) * (5/9)\n",
    "    print(\"\\nThe Celsius equivalent of the temperature you entered, \",\n",
    "          fah_temp, \" degrees, is \", fah_to_cel, \"degrees Celsius.\")\n",
    "\n",
    "except ValueError as Verr:\n",
    "    # put the message for handling the errors in the 'except' block\n",
    "    print(\"\\nThe inputted data represents an inappropriate response; causing an error of \" + str(type(Verr))\n",
    "         + \", which states that the program \\'\" + str(Verr) + \"\\'.\")"
   ]
  }
 ],
 "metadata": {
  "kernelspec": {
   "display_name": "Python 3",
   "language": "python",
   "name": "python3"
  },
  "language_info": {
   "codemirror_mode": {
    "name": "ipython",
    "version": 3
   },
   "file_extension": ".py",
   "mimetype": "text/x-python",
   "name": "python",
   "nbconvert_exporter": "python",
   "pygments_lexer": "ipython3",
   "version": "3.8.3"
  }
 },
 "nbformat": 4,
 "nbformat_minor": 4
}
