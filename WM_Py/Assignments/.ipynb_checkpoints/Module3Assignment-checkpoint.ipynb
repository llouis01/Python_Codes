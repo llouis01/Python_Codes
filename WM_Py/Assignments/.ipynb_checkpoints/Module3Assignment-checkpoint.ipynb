{
 "cells": [
  {
   "cell_type": "markdown",
   "metadata": {
    "collapsed": true
   },
   "source": [
    "## This program will iterate through each of the elements in the temps list and output the Celsius equivalent."
   ]
  },
  {
   "cell_type": "code",
   "execution_count": 14,
   "metadata": {},
   "outputs": [],
   "source": [
    "temps = [56.2,31.8,'x',81.7,45.6,71.3,'this is text',62.9,59.0,92.5,95.0,19.2,15.0]"
   ]
  },
  {
   "cell_type": "markdown",
   "metadata": {},
   "source": [
    "#### For loop to iterate through temps list, convert each element to celsius, output the value and ignore non-numerical elements."
   ]
  },
  {
   "cell_type": "code",
   "execution_count": 15,
   "metadata": {
    "scrolled": false
   },
   "outputs": [
    {
     "name": "stdout",
     "output_type": "stream",
     "text": [
      "56.2 degrees Fahrenheit is equivalent with 13.444444444444446 degrees Celsius.\n",
      "\n",
      "31.8 degrees Fahrenheit is equivalent with -0.11111111111111072 degrees Celsius.\n",
      "\n",
      "81.7 degrees Fahrenheit is equivalent with 27.61111111111111 degrees Celsius.\n",
      "\n",
      "45.6 degrees Fahrenheit is equivalent with 7.555555555555555 degrees Celsius.\n",
      "\n",
      "71.3 degrees Fahrenheit is equivalent with 21.833333333333332 degrees Celsius.\n",
      "\n",
      "62.9 degrees Fahrenheit is equivalent with 17.166666666666668 degrees Celsius.\n",
      "\n",
      "59.0 degrees Fahrenheit is equivalent with 15.0 degrees Celsius.\n",
      "\n",
      "92.5 degrees Fahrenheit is equivalent with 33.611111111111114 degrees Celsius.\n",
      "\n",
      "95.0 degrees Fahrenheit is equivalent with 35.0 degrees Celsius.\n",
      "\n",
      "19.2 degrees Fahrenheit is equivalent with -7.111111111111111 degrees Celsius.\n",
      "\n",
      "15.0 degrees Fahrenheit is equivalent with -9.444444444444445 degrees Celsius.\n",
      "\n"
     ]
    }
   ],
   "source": [
    "for temp in temps:\n",
    "    if isinstance(temp, str):\n",
    "        continue # will ignore non-numerical quantities and move on to next iteration\n",
    "    fah_to_cel = (temp - 32.0) * 5/9\n",
    "    print(temp, \"degrees Fahrenheit is equivalent with\", fah_to_cel, \"degrees Celsius.\\n\")"
   ]
  }
 ],
 "metadata": {
  "kernelspec": {
   "display_name": "Python 3",
   "language": "python",
   "name": "python3"
  },
  "language_info": {
   "codemirror_mode": {
    "name": "ipython",
    "version": 3
   },
   "file_extension": ".py",
   "mimetype": "text/x-python",
   "name": "python",
   "nbconvert_exporter": "python",
   "pygments_lexer": "ipython3",
   "version": "3.8.3"
  }
 },
 "nbformat": 4,
 "nbformat_minor": 2
}
