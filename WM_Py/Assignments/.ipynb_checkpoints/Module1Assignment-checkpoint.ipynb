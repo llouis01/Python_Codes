{
 "cells": [
  {
   "cell_type": "code",
   "execution_count": 5,
   "metadata": {},
   "outputs": [
    {
     "name": "stdout",
     "output_type": "stream",
     "text": [
      "Enter a temperature in Fahrenheit-> p\n",
      "The inputted data represents an inappropriate response.\n"
     ]
    }
   ],
   "source": [
    "fah_temp = float(input(\"Enter a temperature in Fahrenheit-> \"))\n",
    "\n",
    "fah_to_cel = (fah_temp - 32.0) * (5/9)\n",
    "\n",
    "print(\"The Celsius equivalent of the temperature you entered, \",\n",
    "      fah_temp, \" degrees, is \", fah_to_cel, \"degrees Celsius.\")"
   ]
  },
  {
   "cell_type": "code",
   "execution_count": null,
   "metadata": {},
   "outputs": [],
   "source": []
  }
 ],
 "metadata": {
  "kernelspec": {
   "display_name": "Python 3",
   "language": "python",
   "name": "python3"
  },
  "language_info": {
   "codemirror_mode": {
    "name": "ipython",
    "version": 3
   },
   "file_extension": ".py",
   "mimetype": "text/x-python",
   "name": "python",
   "nbconvert_exporter": "python",
   "pygments_lexer": "ipython3",
   "version": "3.8.3"
  }
 },
 "nbformat": 4,
 "nbformat_minor": 4
}
