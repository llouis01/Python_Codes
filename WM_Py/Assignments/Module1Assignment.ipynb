{
 "cells": [
  {
   "cell_type": "code",
   "execution_count": 2,
   "metadata": {},
   "outputs": [
    {
     "name": "stdout",
     "output_type": "stream",
     "text": [
      "Enter a temperature in Fahrenheit-> 32.5\n",
      "The Celsius equivalent of the temperature you entered,  32.5  degrees, is  0.2777777777777778 degrees Celsius.\n"
     ]
    }
   ],
   "source": [
    "fah_temp = float(input(\"Enter a temperature in Fahrenheit-> \"))\n",
    "\n",
    "fah_to_cel = (fah_temp - 32.0) * (5/9)\n",
    "\n",
    "print(\"The Celsius equivalent of the temperature you entered, \",\n",
    "      fah_temp, \" degrees, is \", fah_to_cel, \"degrees Celsius.\")"
   ]
  },
  {
   "cell_type": "code",
   "execution_count": null,
   "metadata": {},
   "outputs": [],
   "source": []
  }
 ],
 "metadata": {
  "kernelspec": {
   "display_name": "Python 3",
   "language": "python",
   "name": "python3"
  },
  "language_info": {
   "codemirror_mode": {
    "name": "ipython",
    "version": 3
   },
   "file_extension": ".py",
   "mimetype": "text/x-python",
   "name": "python",
   "nbconvert_exporter": "python",
   "pygments_lexer": "ipython3",
   "version": "3.8.3"
  }
 },
 "nbformat": 4,
 "nbformat_minor": 4
}
