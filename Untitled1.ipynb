{
 "cells": [
  {
   "cell_type": "code",
   "execution_count": 14,
   "metadata": {},
   "outputs": [
    {
     "name": "stdout",
     "output_type": "stream",
     "text": [
      "Enter a temperature in Fahrenheit-> 74\n",
      "The Celsius equivalent of the temperature you entered,  74.0  degrees, is  23.333333333333336 degrees Celsius.\n"
     ]
    }
   ],
   "source": [
    "fah_temp = float(input(\"Enter a temperature in Fahrenheit-> \"))\n",
    "fah_to_cel = (fah_temp - 32.0) * (5/9)\n",
    "print(\"The Celsius equivalent of the temperature you entered, \",\n",
    "      fah_temp, \" degrees, is \", fah_to_cel, \"degrees Celsius.\")"
   ]
  }
 ],
 "metadata": {
  "kernelspec": {
   "display_name": "Python 3",
   "language": "python",
   "name": "python3"
  },
  "language_info": {
   "codemirror_mode": {
    "name": "ipython",
    "version": 3
   },
   "file_extension": ".py",
   "mimetype": "text/x-python",
   "name": "python",
   "nbconvert_exporter": "python",
   "pygments_lexer": "ipython3",
   "version": "3.8.3"
  }
 },
 "nbformat": 4,
 "nbformat_minor": 4
}
